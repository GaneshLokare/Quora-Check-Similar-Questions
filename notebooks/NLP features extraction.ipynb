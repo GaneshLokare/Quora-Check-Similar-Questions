{
 "cells": [
  {
   "cell_type": "markdown",
   "id": "a4e525c9",
   "metadata": {},
   "source": [
    "# NLP Features Extraction"
   ]
  },
  {
   "cell_type": "markdown",
   "id": "51a48f36",
   "metadata": {},
   "source": [
    "# 5. Featurizing text data with tfidf weighted word-vectors:"
   ]
  },
  {
   "cell_type": "code",
   "execution_count": 1,
   "id": "f3f28d95",
   "metadata": {},
   "outputs": [],
   "source": [
    "# import required liabraries\n",
    "import pandas as pd\n",
    "import numpy as np\n",
    "from sklearn.feature_extraction.text import TfidfVectorizer\n",
    "import sys\n",
    "import os \n",
    "from tqdm import tqdm\n",
    "import matplotlib.pyplot as plt\n",
    "import seaborn as sns\n",
    "import warnings\n",
    "warnings.filterwarnings(\"ignore\")\n",
    "import spacy"
   ]
  },
  {
   "cell_type": "code",
   "execution_count": 3,
   "id": "07798c8a",
   "metadata": {},
   "outputs": [],
   "source": [
    "# load data\n",
    "df = pd.read_csv('G:\\DS\\Revision\\Applied AI\\Module - Copy (4)\\Quara\\Quora/train.csv')"
   ]
  },
  {
   "cell_type": "code",
   "execution_count": 4,
   "id": "2bb9e59f",
   "metadata": {},
   "outputs": [],
   "source": [
    "# convert all questions into string\n",
    "df['question1'] = df['question1'].apply(lambda x: str(x))\n",
    "df['question2'] = df['question2'].apply(lambda x: str(x))"
   ]
  },
  {
   "cell_type": "markdown",
   "id": "f4e63e35",
   "metadata": {},
   "source": [
    "## 5.1 TF-IDF vectorization of text data:"
   ]
  },
  {
   "cell_type": "code",
   "execution_count": 5,
   "id": "07451a47",
   "metadata": {},
   "outputs": [],
   "source": [
    "# get tf-idf for all words\n",
    "from sklearn.feature_extraction.text import TfidfVectorizer\n",
    "\n",
    "# merge texts\n",
    "questions = list(df['question1']) + list(df['question2'])\n",
    "\n",
    "tfidf = TfidfVectorizer(lowercase=False, )\n",
    "tfidf.fit_transform(questions)\n",
    "\n",
    "# dict key:word and value:tf-idf score\n",
    "word2tfidf = dict(zip(tfidf.get_feature_names(), tfidf.idf_))"
   ]
  },
  {
   "cell_type": "markdown",
   "id": "d8d2f7fd",
   "metadata": {},
   "source": [
    "- After we find TF-IDF scores, we convert each question to a weighted average of word2vec vectors by these scores.\n",
    "- here we use a pre-trained GLOVE model which comes free with \"Spacy\". https://spacy.io/usage/vectors-similarity\n",
    "- It is trained on Wikipedia and therefore, it is stronger in terms of word semantics.\n",
    "- In spacy we convert text to vector by considering language context."
   ]
  },
  {
   "cell_type": "markdown",
   "id": "11eb9755",
   "metadata": {},
   "source": [
    "## 5.2 Convert text to vector using spacy:"
   ]
  },
  {
   "cell_type": "code",
   "execution_count": 2,
   "id": "09637fd7",
   "metadata": {},
   "outputs": [
    {
     "data": {
      "text/plain": [
       "300"
      ]
     },
     "execution_count": 2,
     "metadata": {},
     "output_type": "execute_result"
    }
   ],
   "source": [
    "nlp = spacy.load('en_core_web_lg')\n",
    "x=nlp('man')\n",
    "len(x.vector)"
   ]
  },
  {
   "cell_type": "code",
   "execution_count": 7,
   "id": "c8978a37",
   "metadata": {},
   "outputs": [
    {
     "name": "stderr",
     "output_type": "stream",
     "text": [
      "100%|████████████████████████████████████████████████████████████████████████| 404290/404290 [4:38:10<00:00, 24.22it/s]\n"
     ]
    }
   ],
   "source": [
    "# convert each question to a weighted average of word2vec vectors\n",
    "vecs1 = []\n",
    "# tqdm is used to print the progrss bar\n",
    "for qu1 in tqdm(list(df['question1'])):\n",
    "    doc1 = nlp(qu1) \n",
    "    # 300 is the number of dimensions of vectors \n",
    "    mean_vec1 = np.zeros([len(doc1), len(doc1[0].vector)])\n",
    "    for word1 in doc1:\n",
    "      # word2vec\n",
    "        vec1 = word1.vector\n",
    "        # fetch df score\n",
    "        try:\n",
    "            idf = word2tfidf[str(word1)]\n",
    "        except:\n",
    "            idf = 0\n",
    "        # compute final vec\n",
    "        mean_vec1 += vec1 * idf\n",
    "    mean_vec1 = mean_vec1.mean(axis=0)\n",
    "    vecs1.append(mean_vec1)\n",
    "df['q1_feats_m'] = list(vecs1)"
   ]
  },
  {
   "cell_type": "code",
   "execution_count": 7,
   "id": "ec867b58",
   "metadata": {},
   "outputs": [
    {
     "name": "stderr",
     "output_type": "stream",
     "text": [
      "100%|████████████████████████████████████████████████████████████████████████| 404290/404290 [2:17:29<00:00, 49.01it/s]\n"
     ]
    }
   ],
   "source": [
    "# convert each question to a weighted average of word2vec vectors\n",
    "vecs2 = []\n",
    "for qu2 in tqdm(list(df['question2'])):\n",
    "    doc2 = nlp(qu2) \n",
    "    mean_vec2 = np.zeros([len(doc2), len(doc2[0].vector)])\n",
    "    for word2 in doc2:\n",
    "        # word2vec\n",
    "        vec2 = word2.vector\n",
    "        # fetch df score\n",
    "        try:\n",
    "            idf = word2tfidf[str(word2)]\n",
    "        except:\n",
    "            idf = 0\n",
    "        # compute final vec\n",
    "        mean_vec2 += vec2 * idf\n",
    "    mean_vec2 = mean_vec2.mean(axis=0)\n",
    "    vecs2.append(mean_vec2)\n",
    "df['q2_feats_m'] = list(vecs2)"
   ]
  },
  {
   "cell_type": "code",
   "execution_count": 15,
   "id": "94a00cce",
   "metadata": {},
   "outputs": [],
   "source": [
    "# convert spacy vectors into dataframe\n",
    "df3 = df.drop(['qid1','qid2','question1','question2','is_duplicate'],axis=1)\n",
    "df3_q1 = pd.DataFrame(df3.q1_feats_m.values.tolist(), index= df3.index)\n",
    "df3_q2 = pd.DataFrame(df3.q2_feats_m.values.tolist(), index= df3.index)"
   ]
  },
  {
   "cell_type": "code",
   "execution_count": null,
   "id": "de18ad0a",
   "metadata": {},
   "outputs": [],
   "source": [
    "# storing the q1 vector and q2 vector to csv file\n",
    "df3_q1.to_csv(\"df3_q1.csv\", index = False)\n",
    "df3_q2.to_csv(\"df3_q2.csv\", index = False)"
   ]
  },
  {
   "cell_type": "markdown",
   "id": "8d8867b2",
   "metadata": {},
   "source": [
    "## 5.3 Store all final features to csv file (basic + advanced + nlp):"
   ]
  },
  {
   "cell_type": "code",
   "execution_count": 68,
   "id": "07fe1e50",
   "metadata": {},
   "outputs": [],
   "source": [
    "# load basic + adv features data\n",
    "df1 = pd.read_csv(\"basic+adv features.csv.csv\")"
   ]
  },
  {
   "cell_type": "code",
   "execution_count": 80,
   "id": "83d78023",
   "metadata": {},
   "outputs": [
    {
     "data": {
      "text/html": [
       "<div>\n",
       "<style scoped>\n",
       "    .dataframe tbody tr th:only-of-type {\n",
       "        vertical-align: middle;\n",
       "    }\n",
       "\n",
       "    .dataframe tbody tr th {\n",
       "        vertical-align: top;\n",
       "    }\n",
       "\n",
       "    .dataframe thead th {\n",
       "        text-align: right;\n",
       "    }\n",
       "</style>\n",
       "<table border=\"1\" class=\"dataframe\">\n",
       "  <thead>\n",
       "    <tr style=\"text-align: right;\">\n",
       "      <th></th>\n",
       "      <th>id</th>\n",
       "      <th>is_duplicate</th>\n",
       "      <th>q1len</th>\n",
       "      <th>q2len</th>\n",
       "      <th>q1+q2_len</th>\n",
       "      <th>q1-q2_len</th>\n",
       "      <th>q1_words</th>\n",
       "      <th>q2_words</th>\n",
       "      <th>total_words</th>\n",
       "      <th>words_difference</th>\n",
       "      <th>simillar_words</th>\n",
       "      <th>simillar_words_count</th>\n",
       "      <th>word_share</th>\n",
       "      <th>first_word_same</th>\n",
       "    </tr>\n",
       "  </thead>\n",
       "  <tbody>\n",
       "    <tr>\n",
       "      <th>0</th>\n",
       "      <td>0</td>\n",
       "      <td>0</td>\n",
       "      <td>66</td>\n",
       "      <td>57</td>\n",
       "      <td>123</td>\n",
       "      <td>9</td>\n",
       "      <td>14</td>\n",
       "      <td>12</td>\n",
       "      <td>26</td>\n",
       "      <td>2</td>\n",
       "      <td>{'What', 'invest', 'to', 'guide', 'step', 'is'...</td>\n",
       "      <td>10</td>\n",
       "      <td>0.384615</td>\n",
       "      <td>1</td>\n",
       "    </tr>\n",
       "    <tr>\n",
       "      <th>1</th>\n",
       "      <td>1</td>\n",
       "      <td>0</td>\n",
       "      <td>51</td>\n",
       "      <td>88</td>\n",
       "      <td>139</td>\n",
       "      <td>37</td>\n",
       "      <td>8</td>\n",
       "      <td>13</td>\n",
       "      <td>21</td>\n",
       "      <td>5</td>\n",
       "      <td>{'What', '(Koh-i-Noor)', 'the', 'Kohinoor'}</td>\n",
       "      <td>4</td>\n",
       "      <td>0.190476</td>\n",
       "      <td>1</td>\n",
       "    </tr>\n",
       "  </tbody>\n",
       "</table>\n",
       "</div>"
      ],
      "text/plain": [
       "   id  is_duplicate  q1len  q2len  q1+q2_len  q1-q2_len  q1_words  q2_words  \\\n",
       "0   0             0     66     57        123          9        14        12   \n",
       "1   1             0     51     88        139         37         8        13   \n",
       "\n",
       "   total_words  words_difference  \\\n",
       "0           26                 2   \n",
       "1           21                 5   \n",
       "\n",
       "                                      simillar_words  simillar_words_count  \\\n",
       "0  {'What', 'invest', 'to', 'guide', 'step', 'is'...                    10   \n",
       "1        {'What', '(Koh-i-Noor)', 'the', 'Kohinoor'}                     4   \n",
       "\n",
       "   word_share  first_word_same  \n",
       "0    0.384615                1  \n",
       "1    0.190476                1  "
      ]
     },
     "execution_count": 80,
     "metadata": {},
     "output_type": "execute_result"
    }
   ],
   "source": [
    "# basic extracted features\n",
    "df1.head(2)"
   ]
  },
  {
   "cell_type": "code",
   "execution_count": 78,
   "id": "eeafa0b0",
   "metadata": {},
   "outputs": [
    {
     "data": {
      "text/html": [
       "<div>\n",
       "<style scoped>\n",
       "    .dataframe tbody tr th:only-of-type {\n",
       "        vertical-align: middle;\n",
       "    }\n",
       "\n",
       "    .dataframe tbody tr th {\n",
       "        vertical-align: top;\n",
       "    }\n",
       "\n",
       "    .dataframe thead th {\n",
       "        text-align: right;\n",
       "    }\n",
       "</style>\n",
       "<table border=\"1\" class=\"dataframe\">\n",
       "  <thead>\n",
       "    <tr style=\"text-align: right;\">\n",
       "      <th></th>\n",
       "      <th>0</th>\n",
       "      <th>1</th>\n",
       "      <th>2</th>\n",
       "      <th>3</th>\n",
       "      <th>4</th>\n",
       "      <th>5</th>\n",
       "      <th>6</th>\n",
       "      <th>7</th>\n",
       "      <th>8</th>\n",
       "      <th>9</th>\n",
       "      <th>...</th>\n",
       "      <th>290</th>\n",
       "      <th>291</th>\n",
       "      <th>292</th>\n",
       "      <th>293</th>\n",
       "      <th>294</th>\n",
       "      <th>295</th>\n",
       "      <th>296</th>\n",
       "      <th>297</th>\n",
       "      <th>298</th>\n",
       "      <th>299</th>\n",
       "    </tr>\n",
       "  </thead>\n",
       "  <tbody>\n",
       "    <tr>\n",
       "      <th>0</th>\n",
       "      <td>-17.302041</td>\n",
       "      <td>65.077906</td>\n",
       "      <td>-262.939456</td>\n",
       "      <td>-20.686562</td>\n",
       "      <td>168.056481</td>\n",
       "      <td>37.079087</td>\n",
       "      <td>-62.802002</td>\n",
       "      <td>163.003715</td>\n",
       "      <td>-256.633855</td>\n",
       "      <td>-5.613477</td>\n",
       "      <td>...</td>\n",
       "      <td>120.913699</td>\n",
       "      <td>-132.868682</td>\n",
       "      <td>-111.144140</td>\n",
       "      <td>76.800932</td>\n",
       "      <td>-17.031813</td>\n",
       "      <td>18.101131</td>\n",
       "      <td>-26.370254</td>\n",
       "      <td>-169.293018</td>\n",
       "      <td>-136.936277</td>\n",
       "      <td>95.165242</td>\n",
       "    </tr>\n",
       "    <tr>\n",
       "      <th>1</th>\n",
       "      <td>-21.271277</td>\n",
       "      <td>42.341498</td>\n",
       "      <td>84.177521</td>\n",
       "      <td>-106.393414</td>\n",
       "      <td>88.151337</td>\n",
       "      <td>-43.998840</td>\n",
       "      <td>45.112466</td>\n",
       "      <td>109.736580</td>\n",
       "      <td>21.342126</td>\n",
       "      <td>-31.136926</td>\n",
       "      <td>...</td>\n",
       "      <td>51.731451</td>\n",
       "      <td>21.672010</td>\n",
       "      <td>50.035608</td>\n",
       "      <td>-10.191149</td>\n",
       "      <td>-110.361197</td>\n",
       "      <td>60.418664</td>\n",
       "      <td>36.341111</td>\n",
       "      <td>-174.373243</td>\n",
       "      <td>-63.843372</td>\n",
       "      <td>79.621566</td>\n",
       "    </tr>\n",
       "  </tbody>\n",
       "</table>\n",
       "<p>2 rows × 300 columns</p>\n",
       "</div>"
      ],
      "text/plain": [
       "           0          1           2           3           4          5  \\\n",
       "0 -17.302041  65.077906 -262.939456  -20.686562  168.056481  37.079087   \n",
       "1 -21.271277  42.341498   84.177521 -106.393414   88.151337 -43.998840   \n",
       "\n",
       "           6           7           8          9  ...         290         291  \\\n",
       "0 -62.802002  163.003715 -256.633855  -5.613477  ...  120.913699 -132.868682   \n",
       "1  45.112466  109.736580   21.342126 -31.136926  ...   51.731451   21.672010   \n",
       "\n",
       "          292        293         294        295        296         297  \\\n",
       "0 -111.144140  76.800932  -17.031813  18.101131 -26.370254 -169.293018   \n",
       "1   50.035608 -10.191149 -110.361197  60.418664  36.341111 -174.373243   \n",
       "\n",
       "          298        299  \n",
       "0 -136.936277  95.165242  \n",
       "1  -63.843372  79.621566  \n",
       "\n",
       "[2 rows x 300 columns]"
      ]
     },
     "execution_count": 78,
     "metadata": {},
     "output_type": "execute_result"
    }
   ],
   "source": [
    "# spacy vector dataframe of question1\n",
    "df3_q1.head(2)"
   ]
  },
  {
   "cell_type": "code",
   "execution_count": 79,
   "id": "5eda78fb",
   "metadata": {},
   "outputs": [
    {
     "data": {
      "text/html": [
       "<div>\n",
       "<style scoped>\n",
       "    .dataframe tbody tr th:only-of-type {\n",
       "        vertical-align: middle;\n",
       "    }\n",
       "\n",
       "    .dataframe tbody tr th {\n",
       "        vertical-align: top;\n",
       "    }\n",
       "\n",
       "    .dataframe thead th {\n",
       "        text-align: right;\n",
       "    }\n",
       "</style>\n",
       "<table border=\"1\" class=\"dataframe\">\n",
       "  <thead>\n",
       "    <tr style=\"text-align: right;\">\n",
       "      <th></th>\n",
       "      <th>0</th>\n",
       "      <th>1</th>\n",
       "      <th>2</th>\n",
       "      <th>3</th>\n",
       "      <th>4</th>\n",
       "      <th>5</th>\n",
       "      <th>6</th>\n",
       "      <th>7</th>\n",
       "      <th>8</th>\n",
       "      <th>9</th>\n",
       "      <th>...</th>\n",
       "      <th>290</th>\n",
       "      <th>291</th>\n",
       "      <th>292</th>\n",
       "      <th>293</th>\n",
       "      <th>294</th>\n",
       "      <th>295</th>\n",
       "      <th>296</th>\n",
       "      <th>297</th>\n",
       "      <th>298</th>\n",
       "      <th>299</th>\n",
       "    </tr>\n",
       "  </thead>\n",
       "  <tbody>\n",
       "    <tr>\n",
       "      <th>0</th>\n",
       "      <td>-5.951647</td>\n",
       "      <td>77.032716</td>\n",
       "      <td>-248.923202</td>\n",
       "      <td>-25.578063</td>\n",
       "      <td>109.209470</td>\n",
       "      <td>59.628984</td>\n",
       "      <td>-78.496038</td>\n",
       "      <td>139.783484</td>\n",
       "      <td>-279.317965</td>\n",
       "      <td>9.203245</td>\n",
       "      <td>...</td>\n",
       "      <td>89.509871</td>\n",
       "      <td>-110.533625</td>\n",
       "      <td>-100.479424</td>\n",
       "      <td>90.664803</td>\n",
       "      <td>19.507948</td>\n",
       "      <td>-15.140525</td>\n",
       "      <td>-19.345136</td>\n",
       "      <td>-129.408695</td>\n",
       "      <td>-118.284831</td>\n",
       "      <td>89.844395</td>\n",
       "    </tr>\n",
       "    <tr>\n",
       "      <th>1</th>\n",
       "      <td>-111.667871</td>\n",
       "      <td>108.646075</td>\n",
       "      <td>-29.244612</td>\n",
       "      <td>-92.022102</td>\n",
       "      <td>76.001256</td>\n",
       "      <td>50.877741</td>\n",
       "      <td>28.651991</td>\n",
       "      <td>189.795767</td>\n",
       "      <td>68.172862</td>\n",
       "      <td>6.925361</td>\n",
       "      <td>...</td>\n",
       "      <td>81.915579</td>\n",
       "      <td>52.010940</td>\n",
       "      <td>91.056819</td>\n",
       "      <td>-0.052428</td>\n",
       "      <td>-165.972075</td>\n",
       "      <td>103.077540</td>\n",
       "      <td>-83.073252</td>\n",
       "      <td>-68.480301</td>\n",
       "      <td>-117.666431</td>\n",
       "      <td>173.873648</td>\n",
       "    </tr>\n",
       "  </tbody>\n",
       "</table>\n",
       "<p>2 rows × 300 columns</p>\n",
       "</div>"
      ],
      "text/plain": [
       "          0           1           2          3           4          5    \\\n",
       "0   -5.951647   77.032716 -248.923202 -25.578063  109.209470  59.628984   \n",
       "1 -111.667871  108.646075  -29.244612 -92.022102   76.001256  50.877741   \n",
       "\n",
       "         6           7           8         9    ...        290         291  \\\n",
       "0 -78.496038  139.783484 -279.317965  9.203245  ...  89.509871 -110.533625   \n",
       "1  28.651991  189.795767   68.172862  6.925361  ...  81.915579   52.010940   \n",
       "\n",
       "          292        293         294         295        296         297  \\\n",
       "0 -100.479424  90.664803   19.507948  -15.140525 -19.345136 -129.408695   \n",
       "1   91.056819  -0.052428 -165.972075  103.077540 -83.073252  -68.480301   \n",
       "\n",
       "          298         299  \n",
       "0 -118.284831   89.844395  \n",
       "1 -117.666431  173.873648  \n",
       "\n",
       "[2 rows x 300 columns]"
      ]
     },
     "execution_count": 79,
     "metadata": {},
     "output_type": "execute_result"
    }
   ],
   "source": [
    "# spacy vector dataframe of question2\n",
    "df3_q2.head(2)"
   ]
  },
  {
   "cell_type": "code",
   "execution_count": null,
   "id": "ef92ea53",
   "metadata": {},
   "outputs": [],
   "source": [
    "# merge all dataframes\n",
    "df3_q1['id']=df1['id']\n",
    "df3_q2['id']=df1['id']\n",
    "\n",
    "df2  = df3_q1.merge(df3_q2, on='id',how='left')\n",
    "res  = df1.merge(df2, on='id',how='left')"
   ]
  },
  {
   "cell_type": "code",
   "execution_count": null,
   "id": "9a77bd76",
   "metadata": {},
   "outputs": [],
   "source": [
    "# storing the final features to csv file\n",
    "res.to_csv(\"all final features.csv\", index = False)"
   ]
  }
 ],
 "metadata": {
  "kernelspec": {
   "display_name": "Python 3 (ipykernel)",
   "language": "python",
   "name": "python3"
  },
  "language_info": {
   "codemirror_mode": {
    "name": "ipython",
    "version": 3
   },
   "file_extension": ".py",
   "mimetype": "text/x-python",
   "name": "python",
   "nbconvert_exporter": "python",
   "pygments_lexer": "ipython3",
   "version": "3.9.12"
  }
 },
 "nbformat": 4,
 "nbformat_minor": 5
}
