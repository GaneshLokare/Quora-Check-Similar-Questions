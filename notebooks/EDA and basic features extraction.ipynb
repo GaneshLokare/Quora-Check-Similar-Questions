{
 "cells": [
  {
   "cell_type": "markdown",
   "id": "1bcea077",
   "metadata": {},
   "source": [
    "# **Quora**"
   ]
  },
  {
   "cell_type": "markdown",
   "id": "63a1cb65",
   "metadata": {},
   "source": [
    "# 1. Bussiness Problem"
   ]
  },
  {
   "cell_type": "markdown",
   "id": "5cb4ab13",
   "metadata": {},
   "source": [
    "## 1.1 Description:\n",
    "Quora is a place to gain and share knowledge about anything. It’s a platform to ask questions and connect with people who contribute unique insights and quality answers. This empowers people to learn from each other and to better understand the world.\n",
    "\n",
    "Over 100 million people visit Quora every month, so it's no surprise that many people ask similarly worded questions. Multiple questions with the same intent can cause seekers to spend more time finding the best answer to their question, and make writers feel they need to answer multiple versions of the same question."
   ]
  },
  {
   "cell_type": "markdown",
   "id": "347b1fba",
   "metadata": {},
   "source": [
    "## 1.2 Problem statment:\n",
    "- Identify given a pair of questions are similar or not."
   ]
  },
  {
   "cell_type": "markdown",
   "id": "a9cde3ee",
   "metadata": {},
   "source": [
    "## 1.3 Real world/Business Objectives and Constraints\n",
    "1. The cost of a mis-classification can be very high. (specially if pair of questions are different and model predict similar)\n",
    "2. You would want a probability of a pair of questions to be duplicates so that you can choose any threshold of choice.\n",
    "3. No strict latency concerns.\n",
    "4. Interpretability is partially important."
   ]
  },
  {
   "cell_type": "markdown",
   "id": "ffe4ac01",
   "metadata": {},
   "source": [
    "# 2. Machine Learning Probelm"
   ]
  },
  {
   "cell_type": "markdown",
   "id": "0002a4bf",
   "metadata": {},
   "source": [
    "## 2.1 Mapping the real world problem to an ML problem\n"
   ]
  },
  {
   "cell_type": "markdown",
   "id": "c63a6b83",
   "metadata": {},
   "source": [
    "###  2.1.1 Type of Machine Leaning Problem\n",
    "It is a binary classification problem, for a given pair of questions we need to predict if they are duplicate or not."
   ]
  },
  {
   "cell_type": "markdown",
   "id": "770f3af0",
   "metadata": {},
   "source": [
    "### 2.1.2 Performance Metric\n",
    "- log-loss\n",
    "- Binary Confusion Matrix"
   ]
  },
  {
   "cell_type": "markdown",
   "id": "f3367143",
   "metadata": {},
   "source": [
    "# 3. Exploratory Data Analysis "
   ]
  },
  {
   "cell_type": "code",
   "execution_count": 1,
   "id": "52932547",
   "metadata": {},
   "outputs": [],
   "source": [
    "# import required liabraries\n",
    "import pandas as pd\n",
    "import numpy as np\n",
    "import matplotlib.pyplot as plt\n",
    "import seaborn as sns\n",
    "import warnings\n",
    "warnings.filterwarnings(\"ignore\")"
   ]
  },
  {
   "cell_type": "markdown",
   "id": "592a70e3",
   "metadata": {},
   "source": [
    "## 3.1 Load Data"
   ]
  },
  {
   "cell_type": "code",
   "execution_count": 2,
   "id": "4c7e40c5",
   "metadata": {},
   "outputs": [],
   "source": [
    "df = pd.read_csv('G:\\DS\\Revision\\Applied AI\\Module - Copy (4)\\Quara\\Quora/train.csv')"
   ]
  },
  {
   "cell_type": "code",
   "execution_count": 3,
   "id": "85ec98ee",
   "metadata": {},
   "outputs": [
    {
     "data": {
      "text/html": [
       "<div>\n",
       "<style scoped>\n",
       "    .dataframe tbody tr th:only-of-type {\n",
       "        vertical-align: middle;\n",
       "    }\n",
       "\n",
       "    .dataframe tbody tr th {\n",
       "        vertical-align: top;\n",
       "    }\n",
       "\n",
       "    .dataframe thead th {\n",
       "        text-align: right;\n",
       "    }\n",
       "</style>\n",
       "<table border=\"1\" class=\"dataframe\">\n",
       "  <thead>\n",
       "    <tr style=\"text-align: right;\">\n",
       "      <th></th>\n",
       "      <th>id</th>\n",
       "      <th>qid1</th>\n",
       "      <th>qid2</th>\n",
       "      <th>question1</th>\n",
       "      <th>question2</th>\n",
       "      <th>is_duplicate</th>\n",
       "    </tr>\n",
       "  </thead>\n",
       "  <tbody>\n",
       "    <tr>\n",
       "      <th>0</th>\n",
       "      <td>0</td>\n",
       "      <td>1</td>\n",
       "      <td>2</td>\n",
       "      <td>What is the step by step guide to invest in sh...</td>\n",
       "      <td>What is the step by step guide to invest in sh...</td>\n",
       "      <td>0</td>\n",
       "    </tr>\n",
       "    <tr>\n",
       "      <th>1</th>\n",
       "      <td>1</td>\n",
       "      <td>3</td>\n",
       "      <td>4</td>\n",
       "      <td>What is the story of Kohinoor (Koh-i-Noor) Dia...</td>\n",
       "      <td>What would happen if the Indian government sto...</td>\n",
       "      <td>0</td>\n",
       "    </tr>\n",
       "    <tr>\n",
       "      <th>2</th>\n",
       "      <td>2</td>\n",
       "      <td>5</td>\n",
       "      <td>6</td>\n",
       "      <td>How can I increase the speed of my internet co...</td>\n",
       "      <td>How can Internet speed be increased by hacking...</td>\n",
       "      <td>0</td>\n",
       "    </tr>\n",
       "    <tr>\n",
       "      <th>3</th>\n",
       "      <td>3</td>\n",
       "      <td>7</td>\n",
       "      <td>8</td>\n",
       "      <td>Why am I mentally very lonely? How can I solve...</td>\n",
       "      <td>Find the remainder when [math]23^{24}[/math] i...</td>\n",
       "      <td>0</td>\n",
       "    </tr>\n",
       "    <tr>\n",
       "      <th>4</th>\n",
       "      <td>4</td>\n",
       "      <td>9</td>\n",
       "      <td>10</td>\n",
       "      <td>Which one dissolve in water quikly sugar, salt...</td>\n",
       "      <td>Which fish would survive in salt water?</td>\n",
       "      <td>0</td>\n",
       "    </tr>\n",
       "  </tbody>\n",
       "</table>\n",
       "</div>"
      ],
      "text/plain": [
       "   id  qid1  qid2                                          question1  \\\n",
       "0   0     1     2  What is the step by step guide to invest in sh...   \n",
       "1   1     3     4  What is the story of Kohinoor (Koh-i-Noor) Dia...   \n",
       "2   2     5     6  How can I increase the speed of my internet co...   \n",
       "3   3     7     8  Why am I mentally very lonely? How can I solve...   \n",
       "4   4     9    10  Which one dissolve in water quikly sugar, salt...   \n",
       "\n",
       "                                           question2  is_duplicate  \n",
       "0  What is the step by step guide to invest in sh...             0  \n",
       "1  What would happen if the Indian government sto...             0  \n",
       "2  How can Internet speed be increased by hacking...             0  \n",
       "3  Find the remainder when [math]23^{24}[/math] i...             0  \n",
       "4            Which fish would survive in salt water?             0  "
      ]
     },
     "execution_count": 3,
     "metadata": {},
     "output_type": "execute_result"
    }
   ],
   "source": [
    "# print first 5 rows\n",
    "df.head()"
   ]
  },
  {
   "cell_type": "code",
   "execution_count": 4,
   "id": "84f6718a",
   "metadata": {},
   "outputs": [
    {
     "name": "stdout",
     "output_type": "stream",
     "text": [
      "<class 'pandas.core.frame.DataFrame'>\n",
      "RangeIndex: 404290 entries, 0 to 404289\n",
      "Data columns (total 6 columns):\n",
      " #   Column        Non-Null Count   Dtype \n",
      "---  ------        --------------   ----- \n",
      " 0   id            404290 non-null  int64 \n",
      " 1   qid1          404290 non-null  int64 \n",
      " 2   qid2          404290 non-null  int64 \n",
      " 3   question1     404289 non-null  object\n",
      " 4   question2     404288 non-null  object\n",
      " 5   is_duplicate  404290 non-null  int64 \n",
      "dtypes: int64(4), object(2)\n",
      "memory usage: 18.5+ MB\n"
     ]
    }
   ],
   "source": [
    "df.info()"
   ]
  },
  {
   "cell_type": "markdown",
   "id": "c27f7dde",
   "metadata": {},
   "source": [
    "### Observations:\n",
    "- question1 column contain 1 null value and question2 column conatin 2 null values. We will replace with 0."
   ]
  },
  {
   "cell_type": "code",
   "execution_count": 5,
   "id": "c9d152fc",
   "metadata": {},
   "outputs": [],
   "source": [
    "# drop null values\n",
    "df.fillna(\"0\",inplace = True)  "
   ]
  },
  {
   "cell_type": "code",
   "execution_count": 6,
   "id": "704a2b33",
   "metadata": {},
   "outputs": [
    {
     "name": "stdout",
     "output_type": "stream",
     "text": [
      "<class 'pandas.core.frame.DataFrame'>\n",
      "RangeIndex: 404290 entries, 0 to 404289\n",
      "Data columns (total 6 columns):\n",
      " #   Column        Non-Null Count   Dtype \n",
      "---  ------        --------------   ----- \n",
      " 0   id            404290 non-null  int64 \n",
      " 1   qid1          404290 non-null  int64 \n",
      " 2   qid2          404290 non-null  int64 \n",
      " 3   question1     404290 non-null  object\n",
      " 4   question2     404290 non-null  object\n",
      " 5   is_duplicate  404290 non-null  int64 \n",
      "dtypes: int64(4), object(2)\n",
      "memory usage: 18.5+ MB\n"
     ]
    }
   ],
   "source": [
    "df.info()"
   ]
  },
  {
   "cell_type": "markdown",
   "id": "0b20611e",
   "metadata": {},
   "source": [
    "### Observations:\n",
    "- Total 404287 data points and 5 attributes."
   ]
  },
  {
   "cell_type": "markdown",
   "id": "ef7d862b",
   "metadata": {},
   "source": [
    "## 3.2 Distribution of data points among classes"
   ]
  },
  {
   "cell_type": "code",
   "execution_count": 7,
   "id": "e3791e7b",
   "metadata": {},
   "outputs": [
    {
     "name": "stdout",
     "output_type": "stream",
     "text": [
      "Number of different question pairs =  255027\n",
      "Number of duplicate question pairs =  149263\n"
     ]
    }
   ],
   "source": [
    "no_dup, dup = df['is_duplicate'].value_counts()\n",
    "print('Number of different question pairs = ',no_dup)\n",
    "print('Number of duplicate question pairs = ',dup)"
   ]
  },
  {
   "cell_type": "code",
   "execution_count": 8,
   "id": "6a2b3e1a",
   "metadata": {},
   "outputs": [
    {
     "data": {
      "text/plain": [
       "Text(0.5, 1.0, 'Duplicate and different questions')"
      ]
     },
     "execution_count": 8,
     "metadata": {},
     "output_type": "execute_result"
    },
    {
     "data": {
      "image/png": "[encoded data removed]",
      "text/plain": [
       "<Figure size 432x288 with 1 Axes>"
      ]
     },
     "metadata": {
      "needs_background": "light"
     },
     "output_type": "display_data"
    }
   ],
   "source": [
    "# bar chart for duplicate questions count\n",
    "df.groupby(\"is_duplicate\")['is_duplicate'].count().plot.bar()\n",
    "plt.ylabel(\"count\")\n",
    "plt.title(\"Duplicate and different questions\")"
   ]
  },
  {
   "cell_type": "code",
   "execution_count": 9,
   "id": "3d7a3704",
   "metadata": {},
   "outputs": [
    {
     "name": "stdout",
     "output_type": "stream",
     "text": [
      "~> Total number of question pairs for training:\n",
      "   404290\n"
     ]
    }
   ],
   "source": [
    "print('~> Total number of question pairs for training:\\n   {}'.format(len(df)))"
   ]
  },
  {
   "cell_type": "code",
   "execution_count": 10,
   "id": "91588cd3",
   "metadata": {},
   "outputs": [
    {
     "name": "stdout",
     "output_type": "stream",
     "text": [
      "~> Question pairs are not Similar (is_duplicate = 0):\n",
      "   63.08%\n",
      "\n",
      "~> Question pairs are Similar (is_duplicate = 1):\n",
      "   36.92%\n"
     ]
    }
   ],
   "source": [
    "print('~> Question pairs are not Similar (is_duplicate = 0):\\n   {}%'.format(100 - round(df['is_duplicate'].mean()*100, 2)))\n",
    "print('\\n~> Question pairs are Similar (is_duplicate = 1):\\n   {}%'.format(round(df['is_duplicate'].mean()*100, 2)))"
   ]
  },
  {
   "cell_type": "markdown",
   "id": "87e3b2f6",
   "metadata": {},
   "source": [
    "## 3.3 Number of unique questions"
   ]
  },
  {
   "cell_type": "code",
   "execution_count": 11,
   "id": "30647b74",
   "metadata": {},
   "outputs": [
    {
     "name": "stdout",
     "output_type": "stream",
     "text": [
      "Total number of  Unique Questions are: 537933\n",
      "\n",
      "Number of unique questions that appear more than one time: 111780 (20.77953945937505%)\n",
      "\n",
      "Max number of times a single question is repeated: 157\n",
      "\n"
     ]
    }
   ],
   "source": [
    "qids = pd.Series(df['qid1'].tolist() + df['qid2'].tolist())\n",
    "unique_qs = len(np.unique(qids))\n",
    "qs_morethan_onetime = np.sum(qids.value_counts() > 1)\n",
    "print ('Total number of  Unique Questions are: {}\\n'.format(unique_qs))\n",
    "#print len(np.unique(qids))\n",
    "\n",
    "print ('Number of unique questions that appear more than one time: {} ({}%)\\n'.format(qs_morethan_onetime,qs_morethan_onetime/unique_qs*100))\n",
    "\n",
    "print ('Max number of times a single question is repeated: {}\\n'.format(max(qids.value_counts()))) \n",
    "\n",
    "q_vals=qids.value_counts()\n",
    "\n",
    "q_vals=q_vals.values"
   ]
  },
  {
   "cell_type": "code",
   "execution_count": 12,
   "id": "a3d0bb98",
   "metadata": {},
   "outputs": [
    {
     "data": {
      "image/png": "[encoded data removed]",
      "text/plain": [
       "<Figure size 720x432 with 1 Axes>"
      ]
     },
     "metadata": {
      "needs_background": "light"
     },
     "output_type": "display_data"
    }
   ],
   "source": [
    "x = [\"unique_questions\" , \"Repeated Questions\"]\n",
    "y =  [unique_qs , qs_morethan_onetime]\n",
    "\n",
    "plt.figure(figsize=(10, 6))\n",
    "plt.title (\"Plot representing unique and repeated questions  \")\n",
    "sns.barplot(x,y)\n",
    "plt.show()"
   ]
  },
  {
   "cell_type": "code",
   "execution_count": 13,
   "id": "f59005a1",
   "metadata": {},
   "outputs": [],
   "source": [
    "# creating 2 different dataframes per class for plotting and analysis purpose\n",
    "df_same = df[df['is_duplicate']== 1]\n",
    "df_diff = df[df['is_duplicate']== 0]"
   ]
  },
  {
   "cell_type": "markdown",
   "id": "5fea7b35",
   "metadata": {},
   "source": [
    "## 3.4 Check number of different words in question1 and question2"
   ]
  },
  {
   "cell_type": "code",
   "execution_count": 14,
   "id": "33d2145b",
   "metadata": {},
   "outputs": [],
   "source": [
    "# create new columns for number of words in questions\n",
    "df_same['q1_words'] = df_same['question1'].str.split().str.len()\n",
    "df_same['q2_words'] = df_same['question2'].str.split().str.len()\n",
    "df_diff['q1_words'] = df_diff['question1'].str.split().str.len()\n",
    "df_diff['q2_words'] = df_diff['question2'].str.split().str.len()"
   ]
  },
  {
   "cell_type": "code",
   "execution_count": 15,
   "id": "bf925422",
   "metadata": {},
   "outputs": [
    {
     "data": {
      "text/html": [
       "<div>\n",
       "<style scoped>\n",
       "    .dataframe tbody tr th:only-of-type {\n",
       "        vertical-align: middle;\n",
       "    }\n",
       "\n",
       "    .dataframe tbody tr th {\n",
       "        vertical-align: top;\n",
       "    }\n",
       "\n",
       "    .dataframe thead th {\n",
       "        text-align: right;\n",
       "    }\n",
       "</style>\n",
       "<table border=\"1\" class=\"dataframe\">\n",
       "  <thead>\n",
       "    <tr style=\"text-align: right;\">\n",
       "      <th></th>\n",
       "      <th>id</th>\n",
       "      <th>qid1</th>\n",
       "      <th>qid2</th>\n",
       "      <th>question1</th>\n",
       "      <th>question2</th>\n",
       "      <th>is_duplicate</th>\n",
       "      <th>q1_words</th>\n",
       "      <th>q2_words</th>\n",
       "    </tr>\n",
       "  </thead>\n",
       "  <tbody>\n",
       "    <tr>\n",
       "      <th>5</th>\n",
       "      <td>5</td>\n",
       "      <td>11</td>\n",
       "      <td>12</td>\n",
       "      <td>Astrology: I am a Capricorn Sun Cap moon and c...</td>\n",
       "      <td>I'm a triple Capricorn (Sun, Moon and ascendan...</td>\n",
       "      <td>1</td>\n",
       "      <td>16</td>\n",
       "      <td>16</td>\n",
       "    </tr>\n",
       "    <tr>\n",
       "      <th>7</th>\n",
       "      <td>7</td>\n",
       "      <td>15</td>\n",
       "      <td>16</td>\n",
       "      <td>How can I be a good geologist?</td>\n",
       "      <td>What should I do to be a great geologist?</td>\n",
       "      <td>1</td>\n",
       "      <td>7</td>\n",
       "      <td>9</td>\n",
       "    </tr>\n",
       "  </tbody>\n",
       "</table>\n",
       "</div>"
      ],
      "text/plain": [
       "   id  qid1  qid2                                          question1  \\\n",
       "5   5    11    12  Astrology: I am a Capricorn Sun Cap moon and c...   \n",
       "7   7    15    16                     How can I be a good geologist?   \n",
       "\n",
       "                                           question2  is_duplicate  q1_words  \\\n",
       "5  I'm a triple Capricorn (Sun, Moon and ascendan...             1        16   \n",
       "7          What should I do to be a great geologist?             1         7   \n",
       "\n",
       "   q2_words  \n",
       "5        16  \n",
       "7         9  "
      ]
     },
     "execution_count": 15,
     "metadata": {},
     "output_type": "execute_result"
    }
   ],
   "source": [
    "df_same.head(2)"
   ]
  },
  {
   "cell_type": "markdown",
   "id": "681ee221",
   "metadata": {},
   "source": [
    "- q1_words = Total number of words in question1 column.\n",
    "- q2_words = Total number of words in question2 column."
   ]
  },
  {
   "cell_type": "code",
   "execution_count": 16,
   "id": "d959e178",
   "metadata": {},
   "outputs": [
    {
     "data": {
      "text/html": [
       "<div>\n",
       "<style scoped>\n",
       "    .dataframe tbody tr th:only-of-type {\n",
       "        vertical-align: middle;\n",
       "    }\n",
       "\n",
       "    .dataframe tbody tr th {\n",
       "        vertical-align: top;\n",
       "    }\n",
       "\n",
       "    .dataframe thead th {\n",
       "        text-align: right;\n",
       "    }\n",
       "</style>\n",
       "<table border=\"1\" class=\"dataframe\">\n",
       "  <thead>\n",
       "    <tr style=\"text-align: right;\">\n",
       "      <th></th>\n",
       "      <th>id</th>\n",
       "      <th>qid1</th>\n",
       "      <th>qid2</th>\n",
       "      <th>question1</th>\n",
       "      <th>question2</th>\n",
       "      <th>is_duplicate</th>\n",
       "      <th>q1_words</th>\n",
       "      <th>q2_words</th>\n",
       "    </tr>\n",
       "  </thead>\n",
       "  <tbody>\n",
       "    <tr>\n",
       "      <th>0</th>\n",
       "      <td>0</td>\n",
       "      <td>1</td>\n",
       "      <td>2</td>\n",
       "      <td>What is the step by step guide to invest in sh...</td>\n",
       "      <td>What is the step by step guide to invest in sh...</td>\n",
       "      <td>0</td>\n",
       "      <td>14</td>\n",
       "      <td>12</td>\n",
       "    </tr>\n",
       "    <tr>\n",
       "      <th>1</th>\n",
       "      <td>1</td>\n",
       "      <td>3</td>\n",
       "      <td>4</td>\n",
       "      <td>What is the story of Kohinoor (Koh-i-Noor) Dia...</td>\n",
       "      <td>What would happen if the Indian government sto...</td>\n",
       "      <td>0</td>\n",
       "      <td>8</td>\n",
       "      <td>13</td>\n",
       "    </tr>\n",
       "  </tbody>\n",
       "</table>\n",
       "</div>"
      ],
      "text/plain": [
       "   id  qid1  qid2                                          question1  \\\n",
       "0   0     1     2  What is the step by step guide to invest in sh...   \n",
       "1   1     3     4  What is the story of Kohinoor (Koh-i-Noor) Dia...   \n",
       "\n",
       "                                           question2  is_duplicate  q1_words  \\\n",
       "0  What is the step by step guide to invest in sh...             0        14   \n",
       "1  What would happen if the Indian government sto...             0         8   \n",
       "\n",
       "   q2_words  \n",
       "0        12  \n",
       "1        13  "
      ]
     },
     "execution_count": 16,
     "metadata": {},
     "output_type": "execute_result"
    }
   ],
   "source": [
    "df_diff.head(2)"
   ]
  },
  {
   "cell_type": "markdown",
   "id": "3f1d1c79",
   "metadata": {},
   "source": [
    "check is there any difference between number of words in question1 and question2 for same / duplicate question pairs:"
   ]
  },
  {
   "cell_type": "code",
   "execution_count": 17,
   "id": "0bc64ec4",
   "metadata": {},
   "outputs": [],
   "source": [
    "def mean_abs_diff(df_same, df_diff):\n",
    "    df_same['words_difference'] = abs(df_same.q1_words - df_same.q2_words)\n",
    "    df_diff['words_difference'] = abs(df_diff.q1_words - df_diff.q2_words)\n",
    "    plt.figure(figsize=(10, 6))\n",
    "    df_diff['words_difference'].plot.line(ylabel = 'Count', xlabel = 'id')\n",
    "    df_same['words_difference'].plot.line()\n",
    "    print('Average difference of number of words for same question pairs', round(df_same['words_difference'].sum() / len(df_same),0))\n",
    "    print('Average difference of number of words for different question pairs', round(df_diff['words_difference'].sum() / len(df_diff),0))"
   ]
  },
  {
   "cell_type": "code",
   "execution_count": 18,
   "id": "d65c8b31",
   "metadata": {},
   "outputs": [
    {
     "name": "stdout",
     "output_type": "stream",
     "text": [
      "Average difference of number of words for same question pairs 2.0\n",
      "Average difference of number of words for different question pairs 4.0\n"
     ]
    },
    {
     "data": {
      "image/png": "[encoded data removed]",
      "text/plain": [
       "<Figure size 720x432 with 1 Axes>"
      ]
     },
     "metadata": {
      "needs_background": "light"
     },
     "output_type": "display_data"
    }
   ],
   "source": [
    "mean_abs_diff(df_same, df_diff)"
   ]
  },
  {
   "cell_type": "markdown",
   "id": "a993b06f",
   "metadata": {},
   "source": [
    "### Observations:\n",
    "- Average difference of number of words for same question pairs 2.\n",
    "- Average difference of number of words for different question pairs 4.\n",
    "- In plot we can clearly see that the difference of number of words for same question paires is less than different question pairs."
   ]
  },
  {
   "cell_type": "markdown",
   "id": "dd578ab8",
   "metadata": {},
   "source": [
    "## 3.5 Check number of simillar words for both data sets"
   ]
  },
  {
   "cell_type": "code",
   "execution_count": 19,
   "id": "e5225f70",
   "metadata": {},
   "outputs": [
    {
     "data": {
      "text/html": [
       "<div>\n",
       "<style scoped>\n",
       "    .dataframe tbody tr th:only-of-type {\n",
       "        vertical-align: middle;\n",
       "    }\n",
       "\n",
       "    .dataframe tbody tr th {\n",
       "        vertical-align: top;\n",
       "    }\n",
       "\n",
       "    .dataframe thead th {\n",
       "        text-align: right;\n",
       "    }\n",
       "</style>\n",
       "<table border=\"1\" class=\"dataframe\">\n",
       "  <thead>\n",
       "    <tr style=\"text-align: right;\">\n",
       "      <th></th>\n",
       "      <th>id</th>\n",
       "      <th>qid1</th>\n",
       "      <th>qid2</th>\n",
       "      <th>question1</th>\n",
       "      <th>question2</th>\n",
       "      <th>is_duplicate</th>\n",
       "      <th>q1_words</th>\n",
       "      <th>q2_words</th>\n",
       "      <th>words_difference</th>\n",
       "      <th>simillar_words</th>\n",
       "      <th>simillar_words_count</th>\n",
       "    </tr>\n",
       "  </thead>\n",
       "  <tbody>\n",
       "    <tr>\n",
       "      <th>5</th>\n",
       "      <td>5</td>\n",
       "      <td>11</td>\n",
       "      <td>12</td>\n",
       "      <td>Astrology: I am a Capricorn Sun Cap moon and c...</td>\n",
       "      <td>I'm a triple Capricorn (Sun, Moon and ascendan...</td>\n",
       "      <td>1</td>\n",
       "      <td>16</td>\n",
       "      <td>16</td>\n",
       "      <td>0</td>\n",
       "      <td>{and, me?, say, a, does, Capricorn, about}</td>\n",
       "      <td>7</td>\n",
       "    </tr>\n",
       "    <tr>\n",
       "      <th>7</th>\n",
       "      <td>7</td>\n",
       "      <td>15</td>\n",
       "      <td>16</td>\n",
       "      <td>How can I be a good geologist?</td>\n",
       "      <td>What should I do to be a great geologist?</td>\n",
       "      <td>1</td>\n",
       "      <td>7</td>\n",
       "      <td>9</td>\n",
       "      <td>2</td>\n",
       "      <td>{a, I, be, geologist?}</td>\n",
       "      <td>4</td>\n",
       "    </tr>\n",
       "  </tbody>\n",
       "</table>\n",
       "</div>"
      ],
      "text/plain": [
       "   id  qid1  qid2                                          question1  \\\n",
       "5   5    11    12  Astrology: I am a Capricorn Sun Cap moon and c...   \n",
       "7   7    15    16                     How can I be a good geologist?   \n",
       "\n",
       "                                           question2  is_duplicate  q1_words  \\\n",
       "5  I'm a triple Capricorn (Sun, Moon and ascendan...             1        16   \n",
       "7          What should I do to be a great geologist?             1         7   \n",
       "\n",
       "   q2_words  words_difference                              simillar_words  \\\n",
       "5        16                 0  {and, me?, say, a, does, Capricorn, about}   \n",
       "7         9                 2                      {a, I, be, geologist?}   \n",
       "\n",
       "   simillar_words_count  \n",
       "5                     7  \n",
       "7                     4  "
      ]
     },
     "execution_count": 19,
     "metadata": {},
     "output_type": "execute_result"
    }
   ],
   "source": [
    "df_same['simillar_words'] = df_same.apply(lambda r: set(r['question1'].split()) & set(r['question2'].split()),axis=1)\n",
    "\n",
    "df_same['simillar_words_count'] = df_same['simillar_words'].str.len()\n",
    "\n",
    "df_same.head(2)"
   ]
  },
  {
   "cell_type": "code",
   "execution_count": 20,
   "id": "082a7c54",
   "metadata": {},
   "outputs": [
    {
     "data": {
      "text/html": [
       "<div>\n",
       "<style scoped>\n",
       "    .dataframe tbody tr th:only-of-type {\n",
       "        vertical-align: middle;\n",
       "    }\n",
       "\n",
       "    .dataframe tbody tr th {\n",
       "        vertical-align: top;\n",
       "    }\n",
       "\n",
       "    .dataframe thead th {\n",
       "        text-align: right;\n",
       "    }\n",
       "</style>\n",
       "<table border=\"1\" class=\"dataframe\">\n",
       "  <thead>\n",
       "    <tr style=\"text-align: right;\">\n",
       "      <th></th>\n",
       "      <th>id</th>\n",
       "      <th>qid1</th>\n",
       "      <th>qid2</th>\n",
       "      <th>question1</th>\n",
       "      <th>question2</th>\n",
       "      <th>is_duplicate</th>\n",
       "      <th>q1_words</th>\n",
       "      <th>q2_words</th>\n",
       "      <th>words_difference</th>\n",
       "      <th>simillar_words</th>\n",
       "      <th>simillar_words_count</th>\n",
       "    </tr>\n",
       "  </thead>\n",
       "  <tbody>\n",
       "    <tr>\n",
       "      <th>0</th>\n",
       "      <td>0</td>\n",
       "      <td>1</td>\n",
       "      <td>2</td>\n",
       "      <td>What is the step by step guide to invest in sh...</td>\n",
       "      <td>What is the step by step guide to invest in sh...</td>\n",
       "      <td>0</td>\n",
       "      <td>14</td>\n",
       "      <td>12</td>\n",
       "      <td>2</td>\n",
       "      <td>{step, invest, by, in, is, guide, the, What, t...</td>\n",
       "      <td>10</td>\n",
       "    </tr>\n",
       "    <tr>\n",
       "      <th>1</th>\n",
       "      <td>1</td>\n",
       "      <td>3</td>\n",
       "      <td>4</td>\n",
       "      <td>What is the story of Kohinoor (Koh-i-Noor) Dia...</td>\n",
       "      <td>What would happen if the Indian government sto...</td>\n",
       "      <td>0</td>\n",
       "      <td>8</td>\n",
       "      <td>13</td>\n",
       "      <td>5</td>\n",
       "      <td>{Kohinoor, the, What, (Koh-i-Noor)}</td>\n",
       "      <td>4</td>\n",
       "    </tr>\n",
       "  </tbody>\n",
       "</table>\n",
       "</div>"
      ],
      "text/plain": [
       "   id  qid1  qid2                                          question1  \\\n",
       "0   0     1     2  What is the step by step guide to invest in sh...   \n",
       "1   1     3     4  What is the story of Kohinoor (Koh-i-Noor) Dia...   \n",
       "\n",
       "                                           question2  is_duplicate  q1_words  \\\n",
       "0  What is the step by step guide to invest in sh...             0        14   \n",
       "1  What would happen if the Indian government sto...             0         8   \n",
       "\n",
       "   q2_words  words_difference  \\\n",
       "0        12                 2   \n",
       "1        13                 5   \n",
       "\n",
       "                                      simillar_words  simillar_words_count  \n",
       "0  {step, invest, by, in, is, guide, the, What, t...                    10  \n",
       "1                {Kohinoor, the, What, (Koh-i-Noor)}                     4  "
      ]
     },
     "execution_count": 20,
     "metadata": {},
     "output_type": "execute_result"
    }
   ],
   "source": [
    "df_diff['simillar_words'] = df_diff.apply(lambda r: set(r['question1'].split()) & set(r['question2'].split()),axis=1)\n",
    "\n",
    "df_diff['simillar_words_count'] = df_diff['simillar_words'].str.len()\n",
    "\n",
    "df_diff.head(2)"
   ]
  },
  {
   "cell_type": "code",
   "execution_count": 21,
   "id": "7eab6771",
   "metadata": {},
   "outputs": [],
   "source": [
    "def simillar_words(df_same,df_diff):\n",
    "    plt.figure(figsize=(10, 6))\n",
    "    df_same['simillar_words_count'].plot.line()\n",
    "    df_diff['simillar_words_count'].plot.line(ylabel = 'Count', xlabel = 'id')\n",
    "    print(\"Average simillar words for same question pairs = \",round(sum(df_same['simillar_words_count'])/ len(df_same),0))\n",
    "    print(\"Average simillar words for different question pairs = \",round(sum(df_diff['simillar_words_count'])/ len(df_diff),0))"
   ]
  },
  {
   "cell_type": "code",
   "execution_count": 22,
   "id": "45892a37",
   "metadata": {},
   "outputs": [
    {
     "name": "stdout",
     "output_type": "stream",
     "text": [
      "Average simillar words for same question pairs =  5.0\n",
      "Average simillar words for different question pairs =  4.0\n"
     ]
    },
    {
     "data": {
      "image/png": "[encoded data removed]",
      "text/plain": [
       "<Figure size 720x432 with 1 Axes>"
      ]
     },
     "metadata": {
      "needs_background": "light"
     },
     "output_type": "display_data"
    }
   ],
   "source": [
    "simillar_words(df_same,df_diff)"
   ]
  },
  {
   "cell_type": "markdown",
   "id": "622b0543",
   "metadata": {},
   "source": [
    "### Observations:\n",
    "- Average simillar words for same question pairs =  5.\n",
    "- Average simillar words for different question pairs =  4.\n",
    "- Average simillar words for same question pairs is more than different question pairs.\n",
    "- New created features will be helpful to differentiate 2 classes."
   ]
  },
  {
   "cell_type": "markdown",
   "id": "1e10dfc2",
   "metadata": {},
   "source": [
    "## 3.6 Create new basic features:\n",
    "- **q1len** = length of question1\n",
    "- **q2len** = length of question2\n",
    "- **q1_words**             = Total number of words in question1.\n",
    "- **q2_words**             = Total number of words in question2.\n",
    "- **total_words**          = Total number of words in question1 and question2.\n",
    "- **words_difference**     = number of words difference between question1 and question2.\n",
    "- **simillar_words**       = Similar words between question1 and questin2.\n",
    "- **simillar_words_count** = Number of similar words between question1 and questin2.\n",
    "- **word_share**           = ratio of similar_word_count and total_words"
   ]
  },
  {
   "cell_type": "code",
   "execution_count": 23,
   "id": "679240b3",
   "metadata": {},
   "outputs": [
    {
     "data": {
      "text/html": [
       "<div>\n",
       "<style scoped>\n",
       "    .dataframe tbody tr th:only-of-type {\n",
       "        vertical-align: middle;\n",
       "    }\n",
       "\n",
       "    .dataframe tbody tr th {\n",
       "        vertical-align: top;\n",
       "    }\n",
       "\n",
       "    .dataframe thead th {\n",
       "        text-align: right;\n",
       "    }\n",
       "</style>\n",
       "<table border=\"1\" class=\"dataframe\">\n",
       "  <thead>\n",
       "    <tr style=\"text-align: right;\">\n",
       "      <th></th>\n",
       "      <th>id</th>\n",
       "      <th>qid1</th>\n",
       "      <th>qid2</th>\n",
       "      <th>question1</th>\n",
       "      <th>question2</th>\n",
       "      <th>is_duplicate</th>\n",
       "      <th>q1len</th>\n",
       "      <th>q2len</th>\n",
       "      <th>q1+q2_len</th>\n",
       "      <th>q1-q2_len</th>\n",
       "      <th>q1_words</th>\n",
       "      <th>q2_words</th>\n",
       "      <th>total_words</th>\n",
       "      <th>words_difference</th>\n",
       "      <th>simillar_words</th>\n",
       "      <th>simillar_words_count</th>\n",
       "      <th>word_share</th>\n",
       "    </tr>\n",
       "  </thead>\n",
       "  <tbody>\n",
       "    <tr>\n",
       "      <th>0</th>\n",
       "      <td>0</td>\n",
       "      <td>1</td>\n",
       "      <td>2</td>\n",
       "      <td>What is the step by step guide to invest in sh...</td>\n",
       "      <td>What is the step by step guide to invest in sh...</td>\n",
       "      <td>0</td>\n",
       "      <td>66</td>\n",
       "      <td>57</td>\n",
       "      <td>123</td>\n",
       "      <td>9</td>\n",
       "      <td>14</td>\n",
       "      <td>12</td>\n",
       "      <td>26</td>\n",
       "      <td>2</td>\n",
       "      <td>{step, invest, by, in, is, guide, the, What, t...</td>\n",
       "      <td>10</td>\n",
       "      <td>0.384615</td>\n",
       "    </tr>\n",
       "    <tr>\n",
       "      <th>1</th>\n",
       "      <td>1</td>\n",
       "      <td>3</td>\n",
       "      <td>4</td>\n",
       "      <td>What is the story of Kohinoor (Koh-i-Noor) Dia...</td>\n",
       "      <td>What would happen if the Indian government sto...</td>\n",
       "      <td>0</td>\n",
       "      <td>51</td>\n",
       "      <td>88</td>\n",
       "      <td>139</td>\n",
       "      <td>37</td>\n",
       "      <td>8</td>\n",
       "      <td>13</td>\n",
       "      <td>21</td>\n",
       "      <td>5</td>\n",
       "      <td>{Kohinoor, the, What, (Koh-i-Noor)}</td>\n",
       "      <td>4</td>\n",
       "      <td>0.190476</td>\n",
       "    </tr>\n",
       "    <tr>\n",
       "      <th>2</th>\n",
       "      <td>2</td>\n",
       "      <td>5</td>\n",
       "      <td>6</td>\n",
       "      <td>How can I increase the speed of my internet co...</td>\n",
       "      <td>How can Internet speed be increased by hacking...</td>\n",
       "      <td>0</td>\n",
       "      <td>73</td>\n",
       "      <td>59</td>\n",
       "      <td>132</td>\n",
       "      <td>14</td>\n",
       "      <td>14</td>\n",
       "      <td>10</td>\n",
       "      <td>24</td>\n",
       "      <td>4</td>\n",
       "      <td>{How, can, speed}</td>\n",
       "      <td>3</td>\n",
       "      <td>0.125000</td>\n",
       "    </tr>\n",
       "    <tr>\n",
       "      <th>3</th>\n",
       "      <td>3</td>\n",
       "      <td>7</td>\n",
       "      <td>8</td>\n",
       "      <td>Why am I mentally very lonely? How can I solve...</td>\n",
       "      <td>Find the remainder when [math]23^{24}[/math] i...</td>\n",
       "      <td>0</td>\n",
       "      <td>50</td>\n",
       "      <td>65</td>\n",
       "      <td>115</td>\n",
       "      <td>15</td>\n",
       "      <td>11</td>\n",
       "      <td>9</td>\n",
       "      <td>20</td>\n",
       "      <td>2</td>\n",
       "      <td>{}</td>\n",
       "      <td>0</td>\n",
       "      <td>0.000000</td>\n",
       "    </tr>\n",
       "    <tr>\n",
       "      <th>4</th>\n",
       "      <td>4</td>\n",
       "      <td>9</td>\n",
       "      <td>10</td>\n",
       "      <td>Which one dissolve in water quikly sugar, salt...</td>\n",
       "      <td>Which fish would survive in salt water?</td>\n",
       "      <td>0</td>\n",
       "      <td>76</td>\n",
       "      <td>39</td>\n",
       "      <td>115</td>\n",
       "      <td>37</td>\n",
       "      <td>13</td>\n",
       "      <td>7</td>\n",
       "      <td>20</td>\n",
       "      <td>6</td>\n",
       "      <td>{Which, in}</td>\n",
       "      <td>2</td>\n",
       "      <td>0.100000</td>\n",
       "    </tr>\n",
       "    <tr>\n",
       "      <th>...</th>\n",
       "      <td>...</td>\n",
       "      <td>...</td>\n",
       "      <td>...</td>\n",
       "      <td>...</td>\n",
       "      <td>...</td>\n",
       "      <td>...</td>\n",
       "      <td>...</td>\n",
       "      <td>...</td>\n",
       "      <td>...</td>\n",
       "      <td>...</td>\n",
       "      <td>...</td>\n",
       "      <td>...</td>\n",
       "      <td>...</td>\n",
       "      <td>...</td>\n",
       "      <td>...</td>\n",
       "      <td>...</td>\n",
       "      <td>...</td>\n",
       "    </tr>\n",
       "    <tr>\n",
       "      <th>404285</th>\n",
       "      <td>404285</td>\n",
       "      <td>433578</td>\n",
       "      <td>379845</td>\n",
       "      <td>How many keywords are there in the Racket prog...</td>\n",
       "      <td>How many keywords are there in PERL Programmin...</td>\n",
       "      <td>0</td>\n",
       "      <td>85</td>\n",
       "      <td>79</td>\n",
       "      <td>164</td>\n",
       "      <td>6</td>\n",
       "      <td>14</td>\n",
       "      <td>13</td>\n",
       "      <td>27</td>\n",
       "      <td>1</td>\n",
       "      <td>{latest, are, version?, keywords, many, in, th...</td>\n",
       "      <td>9</td>\n",
       "      <td>0.333333</td>\n",
       "    </tr>\n",
       "    <tr>\n",
       "      <th>404286</th>\n",
       "      <td>404286</td>\n",
       "      <td>18840</td>\n",
       "      <td>155606</td>\n",
       "      <td>Do you believe there is life after death?</td>\n",
       "      <td>Is it true that there is life after death?</td>\n",
       "      <td>1</td>\n",
       "      <td>41</td>\n",
       "      <td>42</td>\n",
       "      <td>83</td>\n",
       "      <td>1</td>\n",
       "      <td>8</td>\n",
       "      <td>9</td>\n",
       "      <td>17</td>\n",
       "      <td>1</td>\n",
       "      <td>{after, life, there, is, death?}</td>\n",
       "      <td>5</td>\n",
       "      <td>0.294118</td>\n",
       "    </tr>\n",
       "    <tr>\n",
       "      <th>404287</th>\n",
       "      <td>404287</td>\n",
       "      <td>537928</td>\n",
       "      <td>537929</td>\n",
       "      <td>What is one coin?</td>\n",
       "      <td>What's this coin?</td>\n",
       "      <td>0</td>\n",
       "      <td>17</td>\n",
       "      <td>17</td>\n",
       "      <td>34</td>\n",
       "      <td>0</td>\n",
       "      <td>4</td>\n",
       "      <td>3</td>\n",
       "      <td>7</td>\n",
       "      <td>1</td>\n",
       "      <td>{coin?}</td>\n",
       "      <td>1</td>\n",
       "      <td>0.142857</td>\n",
       "    </tr>\n",
       "    <tr>\n",
       "      <th>404288</th>\n",
       "      <td>404288</td>\n",
       "      <td>537930</td>\n",
       "      <td>537931</td>\n",
       "      <td>What is the approx annual cost of living while...</td>\n",
       "      <td>I am having little hairfall problem but I want...</td>\n",
       "      <td>0</td>\n",
       "      <td>94</td>\n",
       "      <td>127</td>\n",
       "      <td>221</td>\n",
       "      <td>33</td>\n",
       "      <td>17</td>\n",
       "      <td>25</td>\n",
       "      <td>42</td>\n",
       "      <td>8</td>\n",
       "      <td>{of}</td>\n",
       "      <td>1</td>\n",
       "      <td>0.023810</td>\n",
       "    </tr>\n",
       "    <tr>\n",
       "      <th>404289</th>\n",
       "      <td>404289</td>\n",
       "      <td>537932</td>\n",
       "      <td>537933</td>\n",
       "      <td>What is like to have sex with cousin?</td>\n",
       "      <td>What is it like to have sex with your cousin?</td>\n",
       "      <td>0</td>\n",
       "      <td>37</td>\n",
       "      <td>45</td>\n",
       "      <td>82</td>\n",
       "      <td>8</td>\n",
       "      <td>8</td>\n",
       "      <td>10</td>\n",
       "      <td>18</td>\n",
       "      <td>2</td>\n",
       "      <td>{like, sex, cousin?, is, What, to, with, have}</td>\n",
       "      <td>8</td>\n",
       "      <td>0.444444</td>\n",
       "    </tr>\n",
       "  </tbody>\n",
       "</table>\n",
       "<p>404290 rows × 17 columns</p>\n",
       "</div>"
      ],
      "text/plain": [
       "            id    qid1    qid2  \\\n",
       "0            0       1       2   \n",
       "1            1       3       4   \n",
       "2            2       5       6   \n",
       "3            3       7       8   \n",
       "4            4       9      10   \n",
       "...        ...     ...     ...   \n",
       "404285  404285  433578  379845   \n",
       "404286  404286   18840  155606   \n",
       "404287  404287  537928  537929   \n",
       "404288  404288  537930  537931   \n",
       "404289  404289  537932  537933   \n",
       "\n",
       "                                                question1  \\\n",
       "0       What is the step by step guide to invest in sh...   \n",
       "1       What is the story of Kohinoor (Koh-i-Noor) Dia...   \n",
       "2       How can I increase the speed of my internet co...   \n",
       "3       Why am I mentally very lonely? How can I solve...   \n",
       "4       Which one dissolve in water quikly sugar, salt...   \n",
       "...                                                   ...   \n",
       "404285  How many keywords are there in the Racket prog...   \n",
       "404286          Do you believe there is life after death?   \n",
       "404287                                  What is one coin?   \n",
       "404288  What is the approx annual cost of living while...   \n",
       "404289              What is like to have sex with cousin?   \n",
       "\n",
       "                                                question2  is_duplicate  \\\n",
       "0       What is the step by step guide to invest in sh...             0   \n",
       "1       What would happen if the Indian government sto...             0   \n",
       "2       How can Internet speed be increased by hacking...             0   \n",
       "3       Find the remainder when [math]23^{24}[/math] i...             0   \n",
       "4                 Which fish would survive in salt water?             0   \n",
       "...                                                   ...           ...   \n",
       "404285  How many keywords are there in PERL Programmin...             0   \n",
       "404286         Is it true that there is life after death?             1   \n",
       "404287                                  What's this coin?             0   \n",
       "404288  I am having little hairfall problem but I want...             0   \n",
       "404289      What is it like to have sex with your cousin?             0   \n",
       "\n",
       "        q1len  q2len  q1+q2_len  q1-q2_len  q1_words  q2_words  total_words  \\\n",
       "0          66     57        123          9        14        12           26   \n",
       "1          51     88        139         37         8        13           21   \n",
       "2          73     59        132         14        14        10           24   \n",
       "3          50     65        115         15        11         9           20   \n",
       "4          76     39        115         37        13         7           20   \n",
       "...       ...    ...        ...        ...       ...       ...          ...   \n",
       "404285     85     79        164          6        14        13           27   \n",
       "404286     41     42         83          1         8         9           17   \n",
       "404287     17     17         34          0         4         3            7   \n",
       "404288     94    127        221         33        17        25           42   \n",
       "404289     37     45         82          8         8        10           18   \n",
       "\n",
       "        words_difference                                     simillar_words  \\\n",
       "0                      2  {step, invest, by, in, is, guide, the, What, t...   \n",
       "1                      5                {Kohinoor, the, What, (Koh-i-Noor)}   \n",
       "2                      4                                  {How, can, speed}   \n",
       "3                      2                                                 {}   \n",
       "4                      6                                        {Which, in}   \n",
       "...                  ...                                                ...   \n",
       "404285                 1  {latest, are, version?, keywords, many, in, th...   \n",
       "404286                 1                   {after, life, there, is, death?}   \n",
       "404287                 1                                            {coin?}   \n",
       "404288                 8                                               {of}   \n",
       "404289                 2     {like, sex, cousin?, is, What, to, with, have}   \n",
       "\n",
       "        simillar_words_count  word_share  \n",
       "0                         10    0.384615  \n",
       "1                          4    0.190476  \n",
       "2                          3    0.125000  \n",
       "3                          0    0.000000  \n",
       "4                          2    0.100000  \n",
       "...                      ...         ...  \n",
       "404285                     9    0.333333  \n",
       "404286                     5    0.294118  \n",
       "404287                     1    0.142857  \n",
       "404288                     1    0.023810  \n",
       "404289                     8    0.444444  \n",
       "\n",
       "[404290 rows x 17 columns]"
      ]
     },
     "execution_count": 23,
     "metadata": {},
     "output_type": "execute_result"
    }
   ],
   "source": [
    "def new_features(df):\n",
    "    df['q1len'] = df['question1'].str.len() \n",
    "    df['q2len'] = df['question2'].str.len()\n",
    "    df['q1+q2_len'] = df['q1len'] + df['q2len']\n",
    "    df['q1-q2_len'] = abs(df['q1len'] - df['q2len'])\n",
    "    df['q1_words'] = df['question1'].str.split().str.len()\n",
    "    df['q2_words'] = df['question2'].str.split().str.len()\n",
    "    df['total_words'] = df['q1_words'] + df['q2_words']\n",
    "    df['words_difference'] = abs(df.q1_words - df.q2_words)\n",
    "    df['simillar_words'] = df.apply(lambda x: set(x['question1'].split()) & set(x['question2'].split()),axis=1)\n",
    "    df['simillar_words_count'] = df['simillar_words'].str.len()\n",
    "    df['word_share'] = df['simillar_words_count'] / df['total_words']\n",
    "    return df\n",
    "new_features(df)    "
   ]
  },
  {
   "cell_type": "code",
   "execution_count": 24,
   "id": "b4f62f5f",
   "metadata": {},
   "outputs": [],
   "source": [
    "def first_word_same(question1, question2):\n",
    "    first_words_1 = question1.apply(lambda x: x.split()[0].lower())\n",
    "    first_words_2 = question2.apply(lambda x: x.split()[0].lower())\n",
    "    lst = []\n",
    "    for q1,q2 in zip(first_words_1,first_words_2):\n",
    "        if q1==q2:\n",
    "            q1 = 1\n",
    "        else:\n",
    "            q1 = 0\n",
    "        lst.append(q1)\n",
    "    return lst\n",
    "df['first_word_same'] = first_word_same(df['question1'],df['question2'])  "
   ]
  },
  {
   "cell_type": "code",
   "execution_count": 25,
   "id": "c53b9f86",
   "metadata": {
    "scrolled": false
   },
   "outputs": [
    {
     "data": {
      "text/html": [
       "<div>\n",
       "<style scoped>\n",
       "    .dataframe tbody tr th:only-of-type {\n",
       "        vertical-align: middle;\n",
       "    }\n",
       "\n",
       "    .dataframe tbody tr th {\n",
       "        vertical-align: top;\n",
       "    }\n",
       "\n",
       "    .dataframe thead th {\n",
       "        text-align: right;\n",
       "    }\n",
       "</style>\n",
       "<table border=\"1\" class=\"dataframe\">\n",
       "  <thead>\n",
       "    <tr style=\"text-align: right;\">\n",
       "      <th></th>\n",
       "      <th>id</th>\n",
       "      <th>qid1</th>\n",
       "      <th>qid2</th>\n",
       "      <th>question1</th>\n",
       "      <th>question2</th>\n",
       "      <th>is_duplicate</th>\n",
       "      <th>q1len</th>\n",
       "      <th>q2len</th>\n",
       "      <th>q1+q2_len</th>\n",
       "      <th>q1-q2_len</th>\n",
       "      <th>q1_words</th>\n",
       "      <th>q2_words</th>\n",
       "      <th>total_words</th>\n",
       "      <th>words_difference</th>\n",
       "      <th>simillar_words</th>\n",
       "      <th>simillar_words_count</th>\n",
       "      <th>word_share</th>\n",
       "      <th>first_word_same</th>\n",
       "    </tr>\n",
       "  </thead>\n",
       "  <tbody>\n",
       "    <tr>\n",
       "      <th>0</th>\n",
       "      <td>0</td>\n",
       "      <td>1</td>\n",
       "      <td>2</td>\n",
       "      <td>What is the step by step guide to invest in sh...</td>\n",
       "      <td>What is the step by step guide to invest in sh...</td>\n",
       "      <td>0</td>\n",
       "      <td>66</td>\n",
       "      <td>57</td>\n",
       "      <td>123</td>\n",
       "      <td>9</td>\n",
       "      <td>14</td>\n",
       "      <td>12</td>\n",
       "      <td>26</td>\n",
       "      <td>2</td>\n",
       "      <td>{step, invest, by, in, is, guide, the, What, t...</td>\n",
       "      <td>10</td>\n",
       "      <td>0.384615</td>\n",
       "      <td>1</td>\n",
       "    </tr>\n",
       "    <tr>\n",
       "      <th>1</th>\n",
       "      <td>1</td>\n",
       "      <td>3</td>\n",
       "      <td>4</td>\n",
       "      <td>What is the story of Kohinoor (Koh-i-Noor) Dia...</td>\n",
       "      <td>What would happen if the Indian government sto...</td>\n",
       "      <td>0</td>\n",
       "      <td>51</td>\n",
       "      <td>88</td>\n",
       "      <td>139</td>\n",
       "      <td>37</td>\n",
       "      <td>8</td>\n",
       "      <td>13</td>\n",
       "      <td>21</td>\n",
       "      <td>5</td>\n",
       "      <td>{Kohinoor, the, What, (Koh-i-Noor)}</td>\n",
       "      <td>4</td>\n",
       "      <td>0.190476</td>\n",
       "      <td>1</td>\n",
       "    </tr>\n",
       "    <tr>\n",
       "      <th>2</th>\n",
       "      <td>2</td>\n",
       "      <td>5</td>\n",
       "      <td>6</td>\n",
       "      <td>How can I increase the speed of my internet co...</td>\n",
       "      <td>How can Internet speed be increased by hacking...</td>\n",
       "      <td>0</td>\n",
       "      <td>73</td>\n",
       "      <td>59</td>\n",
       "      <td>132</td>\n",
       "      <td>14</td>\n",
       "      <td>14</td>\n",
       "      <td>10</td>\n",
       "      <td>24</td>\n",
       "      <td>4</td>\n",
       "      <td>{How, can, speed}</td>\n",
       "      <td>3</td>\n",
       "      <td>0.125000</td>\n",
       "      <td>1</td>\n",
       "    </tr>\n",
       "    <tr>\n",
       "      <th>3</th>\n",
       "      <td>3</td>\n",
       "      <td>7</td>\n",
       "      <td>8</td>\n",
       "      <td>Why am I mentally very lonely? How can I solve...</td>\n",
       "      <td>Find the remainder when [math]23^{24}[/math] i...</td>\n",
       "      <td>0</td>\n",
       "      <td>50</td>\n",
       "      <td>65</td>\n",
       "      <td>115</td>\n",
       "      <td>15</td>\n",
       "      <td>11</td>\n",
       "      <td>9</td>\n",
       "      <td>20</td>\n",
       "      <td>2</td>\n",
       "      <td>{}</td>\n",
       "      <td>0</td>\n",
       "      <td>0.000000</td>\n",
       "      <td>0</td>\n",
       "    </tr>\n",
       "    <tr>\n",
       "      <th>4</th>\n",
       "      <td>4</td>\n",
       "      <td>9</td>\n",
       "      <td>10</td>\n",
       "      <td>Which one dissolve in water quikly sugar, salt...</td>\n",
       "      <td>Which fish would survive in salt water?</td>\n",
       "      <td>0</td>\n",
       "      <td>76</td>\n",
       "      <td>39</td>\n",
       "      <td>115</td>\n",
       "      <td>37</td>\n",
       "      <td>13</td>\n",
       "      <td>7</td>\n",
       "      <td>20</td>\n",
       "      <td>6</td>\n",
       "      <td>{Which, in}</td>\n",
       "      <td>2</td>\n",
       "      <td>0.100000</td>\n",
       "      <td>1</td>\n",
       "    </tr>\n",
       "  </tbody>\n",
       "</table>\n",
       "</div>"
      ],
      "text/plain": [
       "   id  qid1  qid2                                          question1  \\\n",
       "0   0     1     2  What is the step by step guide to invest in sh...   \n",
       "1   1     3     4  What is the story of Kohinoor (Koh-i-Noor) Dia...   \n",
       "2   2     5     6  How can I increase the speed of my internet co...   \n",
       "3   3     7     8  Why am I mentally very lonely? How can I solve...   \n",
       "4   4     9    10  Which one dissolve in water quikly sugar, salt...   \n",
       "\n",
       "                                           question2  is_duplicate  q1len  \\\n",
       "0  What is the step by step guide to invest in sh...             0     66   \n",
       "1  What would happen if the Indian government sto...             0     51   \n",
       "2  How can Internet speed be increased by hacking...             0     73   \n",
       "3  Find the remainder when [math]23^{24}[/math] i...             0     50   \n",
       "4            Which fish would survive in salt water?             0     76   \n",
       "\n",
       "   q2len  q1+q2_len  q1-q2_len  q1_words  q2_words  total_words  \\\n",
       "0     57        123          9        14        12           26   \n",
       "1     88        139         37         8        13           21   \n",
       "2     59        132         14        14        10           24   \n",
       "3     65        115         15        11         9           20   \n",
       "4     39        115         37        13         7           20   \n",
       "\n",
       "   words_difference                                     simillar_words  \\\n",
       "0                 2  {step, invest, by, in, is, guide, the, What, t...   \n",
       "1                 5                {Kohinoor, the, What, (Koh-i-Noor)}   \n",
       "2                 4                                  {How, can, speed}   \n",
       "3                 2                                                 {}   \n",
       "4                 6                                        {Which, in}   \n",
       "\n",
       "   simillar_words_count  word_share  first_word_same  \n",
       "0                    10    0.384615                1  \n",
       "1                     4    0.190476                1  \n",
       "2                     3    0.125000                1  \n",
       "3                     0    0.000000                0  \n",
       "4                     2    0.100000                1  "
      ]
     },
     "execution_count": 25,
     "metadata": {},
     "output_type": "execute_result"
    }
   ],
   "source": [
    "df.head()"
   ]
  },
  {
   "cell_type": "markdown",
   "id": "27c8207d",
   "metadata": {},
   "source": [
    "### 3.6.1 Analysis of some of the new features"
   ]
  },
  {
   "cell_type": "code",
   "execution_count": 26,
   "id": "7e34ff40",
   "metadata": {},
   "outputs": [
    {
     "name": "stdout",
     "output_type": "stream",
     "text": [
      "Minimum length of the questions in question1 :  1\n",
      "Minimum length of the questions in question2 :  1\n",
      "Number of Questions with minimum length [question1] : 70\n",
      "Number of Questions with minimum length [question2] : 27\n"
     ]
    }
   ],
   "source": [
    "print (\"Minimum length of the questions in question1 : \" , min(df['q1_words']))\n",
    "\n",
    "print (\"Minimum length of the questions in question2 : \" , min(df['q2_words']))\n",
    "\n",
    "print (\"Number of Questions with minimum length [question1] :\", df[df['q1_words']== 1].shape[0])\n",
    "print (\"Number of Questions with minimum length [question2] :\", df[df['q2_words']== 1].shape[0])"
   ]
  },
  {
   "cell_type": "markdown",
   "id": "7bc16229",
   "metadata": {},
   "source": [
    "### 3.6.2 Analysis of feature: word_share"
   ]
  },
  {
   "cell_type": "code",
   "execution_count": 27,
   "id": "41f0475a",
   "metadata": {},
   "outputs": [
    {
     "data": {
      "image/png": "[encoded data removed]",
      "text/plain": [
       "<Figure size 864x576 with 2 Axes>"
      ]
     },
     "metadata": {
      "needs_background": "light"
     },
     "output_type": "display_data"
    }
   ],
   "source": [
    "plt.figure(figsize=(12, 8))\n",
    "\n",
    "plt.subplot(1,2,1)\n",
    "sns.violinplot(x = 'is_duplicate', y = 'word_share', data = df[0:])\n",
    "\n",
    "plt.subplot(1,2,2)\n",
    "sns.distplot(df[df['is_duplicate'] == 1.0]['word_share'][0:] , label = \"1\", color = 'red')\n",
    "sns.distplot(df[df['is_duplicate'] == 0.0]['word_share'][0:] , label = \"0\" , color = 'blue' )\n",
    "plt.show()"
   ]
  },
  {
   "cell_type": "markdown",
   "id": "31a94ada",
   "metadata": {},
   "source": [
    "- The distributions for normalized word_share have some overlap on the far right-hand side, i.e., there are quite a lot of questions with high word similarity\n",
    "- The average word share and Common no. of words of qid1 and qid2 is more when they are duplicate(Similar)"
   ]
  },
  {
   "cell_type": "markdown",
   "id": "d5d10776",
   "metadata": {},
   "source": [
    "### 3.6.3 Aanalysis of feature: simillar_words_count"
   ]
  },
  {
   "cell_type": "code",
   "execution_count": 28,
   "id": "9d601318",
   "metadata": {},
   "outputs": [
    {
     "data": {
      "image/png": "[encoded data removed]",
      "text/plain": [
       "<Figure size 864x576 with 2 Axes>"
      ]
     },
     "metadata": {
      "needs_background": "light"
     },
     "output_type": "display_data"
    }
   ],
   "source": [
    "plt.figure(figsize=(12, 8))\n",
    "\n",
    "plt.subplot(1,2,1)\n",
    "sns.violinplot(x = 'is_duplicate', y = 'simillar_words_count', data = df[0:])\n",
    "\n",
    "plt.subplot(1,2,2)\n",
    "sns.distplot(df[df['is_duplicate'] == 1.0]['simillar_words_count'][0:] , label = \"1\", color = 'red')\n",
    "sns.distplot(df[df['is_duplicate'] == 0.0]['simillar_words_count'][0:] , label = \"0\" , color = 'blue' )\n",
    "plt.show()"
   ]
  },
  {
   "cell_type": "markdown",
   "id": "222bb937",
   "metadata": {},
   "source": [
    "- The distributions of the word_Common feature in similar and non-similar questions are highly overlapping"
   ]
  },
  {
   "cell_type": "markdown",
   "id": "df3cad56",
   "metadata": {},
   "source": [
    "## 3.7 Dimensionality Reduction:\n",
    "\n",
    "- We have extracted total 11 features. By applying dimensionality reduction technique we can analyze all the features.Let's see can we able to differentiate classes after applying dimensionality reduction technique."
   ]
  },
  {
   "cell_type": "code",
   "execution_count": 32,
   "id": "7da4712a",
   "metadata": {},
   "outputs": [],
   "source": [
    "# Using TSNE for Dimentionality reduction for 11 Features(Generated after cleaning the data) to 2 dimention\n",
    "\n",
    "from sklearn.preprocessing import MinMaxScaler\n",
    "\n",
    "dfp_subsampled = df[0:10000]\n",
    "X = MinMaxScaler().fit_transform(dfp_subsampled[['q1len',\n",
    "       'q2len', 'q1+q2_len', 'q1-q2_len', 'q1_words', 'q2_words',\n",
    "       'total_words', 'words_difference',\n",
    "       'simillar_words_count', 'word_share', 'first_word_same']])\n",
    "y = dfp_subsampled['is_duplicate'].values"
   ]
  },
  {
   "cell_type": "code",
   "execution_count": 33,
   "id": "9c9c68a1",
   "metadata": {},
   "outputs": [
    {
     "name": "stdout",
     "output_type": "stream",
     "text": [
      "[t-SNE] Computing 91 nearest neighbors...\n",
      "[t-SNE] Indexed 10000 samples in 0.069s...\n",
      "[t-SNE] Computed neighbors for 10000 samples in 1.146s...\n",
      "[t-SNE] Computed conditional probabilities for sample 1000 / 10000\n",
      "[t-SNE] Computed conditional probabilities for sample 2000 / 10000\n",
      "[t-SNE] Computed conditional probabilities for sample 3000 / 10000\n",
      "[t-SNE] Computed conditional probabilities for sample 4000 / 10000\n",
      "[t-SNE] Computed conditional probabilities for sample 5000 / 10000\n",
      "[t-SNE] Computed conditional probabilities for sample 6000 / 10000\n",
      "[t-SNE] Computed conditional probabilities for sample 7000 / 10000\n",
      "[t-SNE] Computed conditional probabilities for sample 8000 / 10000\n",
      "[t-SNE] Computed conditional probabilities for sample 9000 / 10000\n",
      "[t-SNE] Computed conditional probabilities for sample 10000 / 10000\n",
      "[t-SNE] Mean sigma: 0.022277\n",
      "[t-SNE] Computed conditional probabilities in 0.984s\n",
      "[t-SNE] Iteration 50: error = 94.2364960, gradient norm = 0.0253349 (50 iterations in 6.537s)\n",
      "[t-SNE] Iteration 100: error = 75.8607101, gradient norm = 0.0049430 (50 iterations in 9.819s)\n",
      "[t-SNE] Iteration 150: error = 71.4335175, gradient norm = 0.0035273 (50 iterations in 7.779s)\n",
      "[t-SNE] Iteration 200: error = 69.3795929, gradient norm = 0.0021191 (50 iterations in 8.955s)\n",
      "[t-SNE] Iteration 250: error = 68.1797562, gradient norm = 0.0016339 (50 iterations in 8.530s)\n",
      "[t-SNE] KL divergence after 250 iterations with early exaggeration: 68.179756\n",
      "[t-SNE] Iteration 300: error = 2.2742267, gradient norm = 0.0013198 (50 iterations in 7.707s)\n",
      "[t-SNE] Iteration 350: error = 1.6585016, gradient norm = 0.0006316 (50 iterations in 8.124s)\n",
      "[t-SNE] Iteration 400: error = 1.3508244, gradient norm = 0.0003800 (50 iterations in 8.565s)\n",
      "[t-SNE] Iteration 450: error = 1.1720598, gradient norm = 0.0002605 (50 iterations in 7.441s)\n",
      "[t-SNE] Iteration 500: error = 1.0558733, gradient norm = 0.0001916 (50 iterations in 9.412s)\n",
      "[t-SNE] Iteration 550: error = 0.9749613, gradient norm = 0.0001497 (50 iterations in 7.062s)\n",
      "[t-SNE] Iteration 600: error = 0.9165435, gradient norm = 0.0001210 (50 iterations in 7.119s)\n",
      "[t-SNE] Iteration 650: error = 0.8725970, gradient norm = 0.0001011 (50 iterations in 7.913s)\n",
      "[t-SNE] Iteration 700: error = 0.8386062, gradient norm = 0.0000898 (50 iterations in 8.166s)\n",
      "[t-SNE] Iteration 750: error = 0.8122771, gradient norm = 0.0000813 (50 iterations in 7.195s)\n",
      "[t-SNE] Iteration 800: error = 0.7923014, gradient norm = 0.0000746 (50 iterations in 7.091s)\n",
      "[t-SNE] Iteration 850: error = 0.7781829, gradient norm = 0.0000710 (50 iterations in 8.624s)\n",
      "[t-SNE] Iteration 900: error = 0.7683826, gradient norm = 0.0000697 (50 iterations in 7.345s)\n",
      "[t-SNE] Iteration 950: error = 0.7613264, gradient norm = 0.0000669 (50 iterations in 6.787s)\n",
      "[t-SNE] Iteration 1000: error = 0.7556813, gradient norm = 0.0000631 (50 iterations in 7.663s)\n",
      "[t-SNE] Iteration 1050: error = 0.7508700, gradient norm = 0.0000605 (50 iterations in 8.326s)\n",
      "[t-SNE] Iteration 1100: error = 0.7466154, gradient norm = 0.0000550 (50 iterations in 7.574s)\n",
      "[t-SNE] Iteration 1150: error = 0.7425941, gradient norm = 0.0000525 (50 iterations in 9.804s)\n",
      "[t-SNE] Iteration 1200: error = 0.7383428, gradient norm = 0.0000517 (50 iterations in 8.930s)\n",
      "[t-SNE] Iteration 1250: error = 0.7345731, gradient norm = 0.0000520 (50 iterations in 10.917s)\n",
      "[t-SNE] Iteration 1300: error = 0.7311793, gradient norm = 0.0000522 (50 iterations in 8.427s)\n",
      "[t-SNE] Iteration 1350: error = 0.7284055, gradient norm = 0.0000497 (50 iterations in 10.563s)\n",
      "[t-SNE] Iteration 1400: error = 0.7256909, gradient norm = 0.0000462 (50 iterations in 10.821s)\n",
      "[t-SNE] Iteration 1450: error = 0.7230005, gradient norm = 0.0000456 (50 iterations in 9.577s)\n",
      "[t-SNE] Iteration 1500: error = 0.7205709, gradient norm = 0.0000452 (50 iterations in 8.771s)\n",
      "[t-SNE] Iteration 1550: error = 0.7182481, gradient norm = 0.0000442 (50 iterations in 8.671s)\n",
      "[t-SNE] Iteration 1600: error = 0.7159519, gradient norm = 0.0000448 (50 iterations in 9.268s)\n",
      "[t-SNE] Iteration 1650: error = 0.7140017, gradient norm = 0.0000430 (50 iterations in 10.127s)\n",
      "[t-SNE] Iteration 1700: error = 0.7121249, gradient norm = 0.0000464 (50 iterations in 8.007s)\n",
      "[t-SNE] Iteration 1750: error = 0.7105854, gradient norm = 0.0000470 (50 iterations in 9.088s)\n",
      "[t-SNE] Iteration 1800: error = 0.7093394, gradient norm = 0.0000456 (50 iterations in 8.503s)\n",
      "[t-SNE] Iteration 1850: error = 0.7082037, gradient norm = 0.0000452 (50 iterations in 8.839s)\n",
      "[t-SNE] Iteration 1900: error = 0.7073460, gradient norm = 0.0000451 (50 iterations in 9.503s)\n",
      "[t-SNE] Iteration 1950: error = 0.7063331, gradient norm = 0.0000456 (50 iterations in 10.245s)\n",
      "[t-SNE] Iteration 2000: error = 0.7056947, gradient norm = 0.0000432 (50 iterations in 8.817s)\n",
      "[t-SNE] KL divergence after 2000 iterations: 0.705695\n"
     ]
    }
   ],
   "source": [
    "from sklearn.manifold import TSNE\n",
    "tsne2d = TSNE(\n",
    "    n_components=2,\n",
    "    init='random', # pca\n",
    "    random_state=101,\n",
    "    method='barnes_hut',\n",
    "    n_iter=2000,\n",
    "    verbose=2,\n",
    "    angle=0.5\n",
    ").fit_transform(X)"
   ]
  },
  {
   "cell_type": "code",
   "execution_count": 34,
   "id": "169b3bc8",
   "metadata": {},
   "outputs": [
    {
     "data": {
      "image/png": "[encoded data removed]",
      "text/plain": [
       "<Figure size 618.375x576 with 1 Axes>"
      ]
     },
     "metadata": {
      "needs_background": "light"
     },
     "output_type": "display_data"
    }
   ],
   "source": [
    "tsne_data = pd.DataFrame({'x':tsne2d[:,0], 'y':tsne2d[:,1] ,'label':y})\n",
    "\n",
    "# draw the plot in appropriate place in the grid\n",
    "sns.lmplot(data=tsne_data, x='x', y='y', hue='label', fit_reg=False, size=8,palette=\"Set1\",markers=['s','o'])\n",
    "plt.title(\"perplexity : {} and max_iter : {}\".format(30, 1000))\n",
    "plt.show()"
   ]
  },
  {
   "cell_type": "markdown",
   "id": "6522ee86",
   "metadata": {},
   "source": [
    "with only above features it is difficult to distinguish classes.\n"
   ]
  },
  {
   "cell_type": "code",
   "execution_count": 61,
   "id": "7a8cf44e",
   "metadata": {},
   "outputs": [],
   "source": [
    "df1 = df.drop(['qid1','qid2','question1','question2'],axis=1)"
   ]
  },
  {
   "cell_type": "code",
   "execution_count": 67,
   "id": "7a273c3a",
   "metadata": {},
   "outputs": [],
   "source": [
    "# storing the basic features to csv file\n",
    "df1.to_csv(\"basic features.csv\", index = False)"
   ]
  }
 ],
 "metadata": {
  "kernelspec": {
   "display_name": "Python 3 (ipykernel)",
   "language": "python",
   "name": "python3"
  },
  "language_info": {
   "codemirror_mode": {
    "name": "ipython",
    "version": 3
   },
   "file_extension": ".py",
   "mimetype": "text/x-python",
   "name": "python",
   "nbconvert_exporter": "python",
   "pygments_lexer": "ipython3",
   "version": "3.9.12"
  }
 },
 "nbformat": 4,
 "nbformat_minor": 5
}
